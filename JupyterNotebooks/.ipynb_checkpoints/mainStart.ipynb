{
 "cells": [
  {
   "cell_type": "code",
   "execution_count": null,
   "id": "initial_id",
   "metadata": {
    "collapsed": true
   },
   "outputs": [],
   "source": [
    "import flask\n",
    "%matplotlib widget\n",
    "from flask import Flask, jsonify, request\n",
    "from flask_cors import CORS, cross_origin\n",
    "from matplotlib import pyplot as plt\n",
    "from handler.WarehouseHandler import WarehouseHandler\n",
    "from DAO.racksDAO import RacksDao\n",
    "from DAO.warehouseDAO import warehouseDAO\n",
    "from main import app\n",
    "from handler.RacksHandler import RacksHandler\n",
    "import requests\n",
    "from main import app\n",
    "import pandas as pd\n",
    "import ipywidgets\n",
    "from IPython.display import display\n",
    "#import sys\n",
    "#sys.path.append('http://127.0.0.1:5000/')\n",
    "#app.app_context().push()\n"
   ]
  }
 ],
 "metadata": {
  "kernelspec": {
   "display_name": "Python 3",
   "language": "python",
   "name": "python3"
  },
  "language_info": {
   "codemirror_mode": {
    "name": "ipython",
    "version": 2
   },
   "file_extension": ".py",
   "mimetype": "text/x-python",
   "name": "python",
   "nbconvert_exporter": "python",
   "pygments_lexer": "ipython2",
   "version": "2.7.6"
  }
 },
 "nbformat": 4,
 "nbformat_minor": 5
}
