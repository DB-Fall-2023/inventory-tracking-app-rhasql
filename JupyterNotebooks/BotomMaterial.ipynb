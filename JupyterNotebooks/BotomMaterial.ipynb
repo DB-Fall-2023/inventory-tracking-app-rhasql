{
 "cells": [
  {
   "cell_type": "code",
   "execution_count": 1,
   "id": "initial_id",
   "metadata": {
    "collapsed": true,
    "ExecuteTime": {
     "end_time": "2023-12-11T05:15:23.888020200Z",
     "start_time": "2023-12-11T05:15:22.473021Z"
    }
   },
   "outputs": [],
   "source": [
    "\n",
    "import flask\n",
    "%matplotlib widget\n",
    "from flask import Flask, jsonify, request\n",
    "from flask_cors import CORS, cross_origin\n",
    "from matplotlib import pyplot as plt\n",
    "from handler.WarehouseHandler import WarehouseHandler\n",
    "from DAO.racksDAO import RacksDao\n",
    "from DAO.warehouseDAO import warehouseDAO\n",
    "from DAO.partsDAO import PartsDAO\n",
    "from main import app\n",
    "from handler.RacksHandler import RacksHandler\n",
    "import requests\n",
    "from main import app\n",
    "import pandas as pd\n",
    "import ipywidgets\n",
    "from IPython.display import display, clear_output\n",
    "from IPython.utils import capture\n",
    "from IPython.utils.capture import capture_output\n",
    "from debugpy.launcher import output\n",
    "\n",
    "import pandas as pd\n",
    "#import sys\n",
    "#sys.path.append('http://127.0.0.1:5000/')\n",
    "#app.app_context().push()"
   ]
  },
  {
   "cell_type": "code",
   "execution_count": 2,
   "outputs": [
    {
     "data": {
      "text/plain": "Dropdown(description='Warehouse id: ', options=(21, 2, 7, 3, 14, 13, 9, 4, 5, 11, 12, 10, 15, 6, 8), value=21)",
      "application/vnd.jupyter.widget-view+json": {
       "version_major": 2,
       "version_minor": 0,
       "model_id": "7ba3e51ebee04df598fb17762d453d33"
      }
     },
     "metadata": {},
     "output_type": "display_data"
    }
   ],
   "source": [
    "with app.app_context():\n",
    " api_url = 'http://127.0.0.1:5000/rhasql/warehouse'\n",
    " request = requests.get(api_url)\n",
    " respone = request.json()\n",
    " wid = []\n",
    "    \n",
    " for x in respone:\n",
    "    wid.append(x['w_id'])\n",
    "        \n",
    " dropdown = ipywidgets.Dropdown(\n",
    "        options=wid,\n",
    "        value=wid[0],\n",
    "        description='Warehouse id: ',\n",
    "        disabled=False\n",
    "    )\n",
    " output = ipywidgets.Output()\n",
    " display(dropdown)\n",
    " plt.show()\n"
   ],
   "metadata": {
    "collapsed": false,
    "ExecuteTime": {
     "end_time": "2023-12-11T05:15:27.322360100Z",
     "start_time": "2023-12-11T05:15:25.589356500Z"
    }
   },
   "id": "4d970372e0cecf6e"
  },
  {
   "cell_type": "code",
   "execution_count": 3,
   "outputs": [
    {
     "data": {
      "text/plain": "Output()",
      "application/vnd.jupyter.widget-view+json": {
       "version_major": 2,
       "version_minor": 0,
       "model_id": "d239f9e0f2ff405f824b5240abe84c2a"
      }
     },
     "execution_count": 3,
     "metadata": {},
     "output_type": "execute_result"
    }
   ],
   "source": [
    "@output.capture(clear_output=True, wait=True)\n",
    "def when_changed(change):\n",
    "  #with output:\n",
    "    #print('tumai')\n",
    "    if change['name'] == 'value' and (change['new'] != change['old']):\n",
    "        clear_output()\n",
    "        api_url =f'http://127.0.0.1:5000/rhasql/warehouse/{dropdown.value}/rack/material'\n",
    "        response = requests.get(api_url)\n",
    "        \n",
    "        #request.get()\n",
    "        #ppJson = dao.getBottomParts()\n",
    "        #api_url = 'http://127.0.0.1:5000/rhasql/warehouse/5/rack/material'\n",
    "        #print(request.path)\n",
    "        if not response.json()[\"Lowest_ptype\"]:\n",
    "                        return print('No sufficient data to plot')\n",
    "        #todo = {\"u_id\":2}\n",
    "        response = requests.get(api_url)\n",
    "        \n",
    "        \n",
    "        \n",
    "        pID = []\n",
    "        pMaterial = []\n",
    "        result = []\n",
    "        #print(ppJson)\n",
    "        #print(response.json()[\"Lowest_ptype\"])\n",
    "        for x in response.json()[\"Lowest_ptype\"]:\n",
    "                pID.append(x['material'])\n",
    "                pMaterial.append(x['amount in stock'])\n",
    "            # result.append(WarehouseHandler().buildLowMaterial(x))\n",
    "        # for y in result:\n",
    "        #     pID.append(y['amount in stock'])\n",
    "        #     pMaterial.append(y['material'])\n",
    "        plt.figure().set_figwidth(15)\n",
    "        plt.bar(range(0, len(pMaterial)), pMaterial)\n",
    "        plt.xticks(range(0, len(pID)), pID)\n",
    "        # fig, ax = plt.subplots()\n",
    "        # ax.pie(mTransactions, labels=mID, autopct='%1.1f%%')\n",
    "        plt.title(f'Bottom 3 Materials in warehouse {dropdown.value}')\n",
    "\n",
    "        plt.show()\n",
    "dropdown.observe(when_changed, 'value')\n",
    "output\n",
    "        #plt.hist"
   ],
   "metadata": {
    "collapsed": false,
    "ExecuteTime": {
     "end_time": "2023-12-11T05:15:30.160348600Z",
     "start_time": "2023-12-11T05:15:30.135352Z"
    }
   },
   "id": "8983527ab5bb5cb0"
  },
  {
   "cell_type": "code",
   "execution_count": null,
   "outputs": [],
   "source": [],
   "metadata": {
    "collapsed": false
   },
   "id": "37e6c78ce8f092fe"
  }
 ],
 "metadata": {
  "kernelspec": {
   "display_name": "Python 3",
   "language": "python",
   "name": "python3"
  },
  "language_info": {
   "codemirror_mode": {
    "name": "ipython",
    "version": 2
   },
   "file_extension": ".py",
   "mimetype": "text/x-python",
   "name": "python",
   "nbconvert_exporter": "python",
   "pygments_lexer": "ipython2",
   "version": "2.7.6"
  }
 },
 "nbformat": 4,
 "nbformat_minor": 5
}
