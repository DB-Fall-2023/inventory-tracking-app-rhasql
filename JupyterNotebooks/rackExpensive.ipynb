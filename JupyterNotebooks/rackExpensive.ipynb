{
 "cells": [
  {
   "cell_type": "code",
   "execution_count": 2,
   "id": "initial_id",
   "metadata": {
    "collapsed": true,
    "ExecuteTime": {
     "end_time": "2023-12-11T04:54:48.764572400Z",
     "start_time": "2023-12-11T04:54:47.051678700Z"
    }
   },
   "outputs": [],
   "source": [
    "\n",
    "import flask\n",
    "%matplotlib widget\n",
    "from flask import Flask, jsonify, request\n",
    "from flask_cors import CORS, cross_origin\n",
    "from matplotlib import pyplot as plt\n",
    "from handler.WarehouseHandler import WarehouseHandler\n",
    "from DAO.racksDAO import RacksDao\n",
    "from DAO.warehouseDAO import warehouseDAO\n",
    "from DAO.partsDAO import PartsDAO\n",
    "from main import app\n",
    "from handler.RacksHandler import RacksHandler\n",
    "import requests\n",
    "from main import app\n",
    "import pandas as pd\n",
    "import ipywidgets\n",
    "from IPython.display import display, clear_output\n",
    "from IPython.utils import capture\n",
    "from IPython.utils.capture import capture_output\n",
    "from debugpy.launcher import output\n",
    "\n",
    "import pandas as pd\n",
    "#import sys\n",
    "#sys.path.append('http://127.0.0.1:5000/')\n",
    "#app.app_context().push()"
   ]
  },
  {
   "cell_type": "code",
   "execution_count": 3,
   "outputs": [
    {
     "data": {
      "text/plain": "Dropdown(description='Warehouse id: ', options=(21, 2, 7, 3, 14, 13, 9, 4, 5, 11, 12, 10, 15, 6, 8), value=21)",
      "application/vnd.jupyter.widget-view+json": {
       "version_major": 2,
       "version_minor": 0,
       "model_id": "a56d0dad08084aa0999c081226ef2da2"
      }
     },
     "metadata": {},
     "output_type": "display_data"
    }
   ],
   "source": [
    "with app.app_context():\n",
    " api_url = 'http://127.0.0.1:5000/rhasql/warehouse'\n",
    " request = requests.get(api_url)\n",
    " respone = request.json()\n",
    " wid = []\n",
    "    \n",
    " for x in respone:\n",
    "    wid.append(x['w_id'])\n",
    "        \n",
    " dropdown = ipywidgets.Dropdown(\n",
    "        options=wid,\n",
    "        value=wid[0],\n",
    "        description='Warehouse id: ',\n",
    "        disabled=False\n",
    "    )\n",
    " output = ipywidgets.Output()\n",
    " display(dropdown)\n",
    " plt.show()\n"
   ],
   "metadata": {
    "collapsed": false,
    "ExecuteTime": {
     "end_time": "2023-12-11T04:54:49.392045Z",
     "start_time": "2023-12-11T04:54:48.768569100Z"
    }
   },
   "id": "bcd6d2a831801549"
  },
  {
   "cell_type": "code",
   "execution_count": 4,
   "outputs": [
    {
     "data": {
      "text/plain": "Output()",
      "application/vnd.jupyter.widget-view+json": {
       "version_major": 2,
       "version_minor": 0,
       "model_id": "af4463cb251548ba80e69cfd4f8dae76"
      }
     },
     "execution_count": 4,
     "metadata": {},
     "output_type": "execute_result"
    }
   ],
   "source": [
    "@output.capture(clear_output=True, wait=True)\n",
    "def when_changed(change):\n",
    "        if change['name'] == 'value' and (change['new'] != change['old']):\n",
    "                clear_output()\n",
    "                api_url =f'http://127.0.0.1:5000/rhasql/warehouse/{dropdown.value}/rack/expensive'\n",
    "                response = requests.get(api_url)\n",
    "#with app.app_context():\n",
    "        #dao = warehouseDAO()\n",
    "        \n",
    "        #request.get()\n",
    "        #ppJson = dao.getBottomParts()\n",
    "                #api_url = f'http://127.0.0.1:5000/rhasql/warehouse/{dropdown.value}/rack/expensive'\n",
    "        #print(request.path)\n",
    "        #todo = {\"u_id\":2}\n",
    "                response = requests.get(api_url)\n",
    "        \n",
    "        \n",
    "        \n",
    "                rID = []\n",
    "                totalPrice = []\n",
    "                result = []\n",
    "        #print(ppJson)\n",
    "        #print(response.json()[\"Lowest_ptype\"])\n",
    "                for x in response.json()[\"Most_Expensive\"]:\n",
    "                        rID.append(x['r_id'])\n",
    "                        totalPrice.append(x['total_price'])\n",
    "            # result.append(WarehouseHandler().buildLowMaterial(x))\n",
    "        # for y in result:\n",
    "        #     pID.append(y['amount in stock'])\n",
    "        #     pMaterial.append(y['material'])\n",
    "                plt.figure().set_figwidth(15)\n",
    "                plt.bar(range(0, len(totalPrice)), totalPrice)\n",
    "                plt.xticks(range(0, len(rID)), rID)\n",
    "                #plt.legend()\n",
    "        # fig, ax = plt.subplots()\n",
    "        # ax.pie(mTransactions, labels=mID, autopct='%1.1f%%')\n",
    "                plt.show()\n",
    "dropdown.observe(when_changed, 'value')\n",
    "output"
   ],
   "metadata": {
    "collapsed": false,
    "ExecuteTime": {
     "end_time": "2023-12-11T04:54:49.501045500Z",
     "start_time": "2023-12-11T04:54:49.482044600Z"
    }
   },
   "id": "8b5166456eb5068"
  },
  {
   "cell_type": "code",
   "execution_count": 2,
   "outputs": [],
   "source": [],
   "metadata": {
    "collapsed": false,
    "ExecuteTime": {
     "end_time": "2023-12-07T20:40:29.701285400Z",
     "start_time": "2023-12-07T20:40:29.682275100Z"
    }
   },
   "id": "64551d38da2433c4"
  },
  {
   "cell_type": "code",
   "execution_count": null,
   "outputs": [],
   "source": [],
   "metadata": {
    "collapsed": false
   },
   "id": "7b7d95c8fac28c1d"
  }
 ],
 "metadata": {
  "kernelspec": {
   "display_name": "Python 3",
   "language": "python",
   "name": "python3"
  },
  "language_info": {
   "codemirror_mode": {
    "name": "ipython",
    "version": 2
   },
   "file_extension": ".py",
   "mimetype": "text/x-python",
   "name": "python",
   "nbconvert_exporter": "python",
   "pygments_lexer": "ipython2",
   "version": "2.7.6"
  }
 },
 "nbformat": 4,
 "nbformat_minor": 5
}
