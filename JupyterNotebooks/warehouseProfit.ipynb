{
 "cells": [
  {
   "cell_type": "code",
   "execution_count": 4,
   "id": "initial_id",
   "metadata": {
    "collapsed": true,
    "ExecuteTime": {
     "end_time": "2023-12-11T04:36:19.092136700Z",
     "start_time": "2023-12-11T04:36:18.296169800Z"
    }
   },
   "outputs": [],
   "source": [
    "\n",
    "import flask\n",
    "%matplotlib widget\n",
    "from flask import Flask, jsonify, request\n",
    "from flask_cors import CORS, cross_origin\n",
    "from matplotlib import pyplot as plt\n",
    "from handler.WarehouseHandler import WarehouseHandler\n",
    "from DAO.racksDAO import RacksDao\n",
    "from DAO.warehouseDAO import warehouseDAO\n",
    "from DAO.partsDAO import PartsDAO\n",
    "from main import app\n",
    "from handler.RacksHandler import RacksHandler\n",
    "import requests\n",
    "from main import app\n",
    "import pandas as pd\n",
    "import ipywidgets\n",
    "from IPython.display import display, clear_output\n",
    "from IPython.utils import capture\n",
    "from IPython.utils.capture import capture_output\n",
    "from debugpy.launcher import output\n",
    "\n",
    "import pandas as pd\n",
    "#import sys\n",
    "#sys.path.append('http://127.0.0.1:5000/')\n",
    "#app.app_context().push()"
   ]
  },
  {
   "cell_type": "code",
   "execution_count": 8,
   "outputs": [
    {
     "data": {
      "text/plain": "Dropdown(description='Warehouse id: ', options=(21, 2, 7, 3, 14, 13, 9, 4, 5, 11, 12, 10, 15, 6, 8), value=21)",
      "application/vnd.jupyter.widget-view+json": {
       "version_major": 2,
       "version_minor": 0,
       "model_id": "4dff103f3a414fc59d8795d8e31f1248"
      }
     },
     "metadata": {},
     "output_type": "display_data"
    }
   ],
   "source": [
    "with app.app_context():\n",
    "        api_url = 'http://127.0.0.1:5000/rhasql/warehouse'\n",
    "        request = requests.get(api_url)\n",
    "        respone = request.json()\n",
    "        wid = []\n",
    "        for x in respone:\n",
    "                wid.append(x['w_id'])\n",
    "        \n",
    "        dropdown = ipywidgets.Dropdown(\n",
    "        options=wid,\n",
    "        value=wid[0],\n",
    "        description='Warehouse id: ',\n",
    "        disabled=False\n",
    "        )\n",
    "        output = ipywidgets.Output()\n",
    "        display(dropdown)\n",
    "        plt.show()"
   ],
   "metadata": {
    "collapsed": false,
    "ExecuteTime": {
     "end_time": "2023-12-11T04:36:57.785760500Z",
     "start_time": "2023-12-11T04:36:57.164761300Z"
    }
   },
   "id": "ee4bb622855b0c66"
  },
  {
   "cell_type": "code",
   "execution_count": 7,
   "outputs": [
    {
     "data": {
      "text/plain": "Output()",
      "application/vnd.jupyter.widget-view+json": {
       "version_major": 2,
       "version_minor": 0,
       "model_id": "5933568a318f4dd0939f9640728ee590"
      }
     },
     "execution_count": 7,
     "metadata": {},
     "output_type": "execute_result"
    }
   ],
   "source": [
    "@output.capture(clear_output=True, wait=True)\n",
    "def when_changed(change):\n",
    "        #dao = warehouseDAO()\n",
    "        \n",
    "        #request.get()\n",
    "        #ppJson = dao.getBottomParts()\n",
    "        if change['name'] == 'value' and (change['new'] != change['old']):\n",
    "                clear_output()\n",
    "                api_url =f'http://127.0.0.1:5000/rhasql/warehouse/{dropdown.value}/profit'\n",
    "                response = requests.get(api_url)\n",
    "        #print(request.path)\n",
    "        # todo = {\"u_id\":2}\n",
    "        #  response = requests.get(api_url,json=todo)\n",
    "        \n",
    "        \n",
    "        \n",
    "        #sID = []\n",
    "        #totalSupplies = []\n",
    "        #result = []\n",
    "        #print(ppJson)\n",
    "        #print(response.json()[\"Lowest_ptype\"])\n",
    "            # result.append(WarehouseHandler().buildLowMaterial(x))\n",
    "        # for y in result:\n",
    "                x_axis = ['2022','2023']\n",
    "                print(response.json())\n",
    "                y_axis = [0, int(response.json()['profit'][0][0])]\n",
    "                plt.plot(x_axis, y_axis)\n",
    "                plt.title('Yearly profit')\n",
    "                plt.xlabel('year')\n",
    "                plt.ylabel('profit')\n",
    "        #     pID.append(y['amount in stock'])\n",
    "        #     pMaterial.append(y['material'])\n",
    "        #plt.bar(range(0, len(totalSupplies)), totalSupplies)\n",
    "        #plt.xticks(range(0, len(sID)), sID)\n",
    "        #plt.legend()\n",
    "        # fig, ax = plt.subplots()\n",
    "        # ax.pie(mTransactions, labels=mID, autopct='%1.1f%%')\n",
    "                plt.show()\n",
    "dropdown.observe(when_changed, 'value')\n",
    "output\n",
    "        #plt.hist"
   ],
   "metadata": {
    "collapsed": false,
    "ExecuteTime": {
     "end_time": "2023-12-11T04:36:47.781756600Z",
     "start_time": "2023-12-11T04:36:47.752758100Z"
    }
   },
   "id": "ec85464f700fa4bb"
  },
  {
   "cell_type": "code",
   "execution_count": null,
   "outputs": [],
   "source": [],
   "metadata": {
    "collapsed": false
   },
   "id": "71abb72042e1e9fd"
  }
 ],
 "metadata": {
  "kernelspec": {
   "display_name": "Python 3",
   "language": "python",
   "name": "python3"
  },
  "language_info": {
   "codemirror_mode": {
    "name": "ipython",
    "version": 2
   },
   "file_extension": ".py",
   "mimetype": "text/x-python",
   "name": "python",
   "nbconvert_exporter": "python",
   "pygments_lexer": "ipython2",
   "version": "2.7.6"
  }
 },
 "nbformat": 4,
 "nbformat_minor": 5
}
