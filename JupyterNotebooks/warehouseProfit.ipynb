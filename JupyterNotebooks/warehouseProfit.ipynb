{
 "cells": [
  {
   "cell_type": "code",
   "execution_count": null,
   "id": "initial_id",
   "metadata": {
    "collapsed": true
   },
   "outputs": [],
   "source": [
    "import flask\n",
    "%matplotlib widget\n",
    "from flask import Flask, jsonify, request\n",
    "from flask_cors import CORS, cross_origin\n",
    "from matplotlib import pyplot as plt\n",
    "from handler.WarehouseHandler import WarehouseHandler\n",
    "from DAO.racksDAO import RacksDao\n",
    "from DAO.warehouseDAO import warehouseDAO\n",
    "from DAO.partsDAO import PartsDAO\n",
    "from main import app\n",
    "from handler.RacksHandler import RacksHandler\n",
    "import requests\n",
    "from main import app\n",
    "import pandas as pd\n",
    "import ipywidgets\n",
    "from IPython.display import display\n",
    "#import sys\n",
    "#sys.path.append('http://127.0.0.1:5000/')\n",
    "#app.app_context().push()\n"
   ]
  },
  {
   "cell_type": "code",
   "execution_count": 14,
   "outputs": [
    {
     "ename": "OperationalError",
     "evalue": "connection to server at \"ec2-18-211-172-50.compute-1.amazonaws.com\" (18.211.172.50), port 5432 failed: FATAL:  too many connections for role \"vbccpykujiisah\"\n",
     "output_type": "error",
     "traceback": [
      "\u001B[1;31m---------------------------------------------------------------------------\u001B[0m",
      "\u001B[1;31mOperationalError\u001B[0m                          Traceback (most recent call last)",
      "Cell \u001B[1;32mIn[14], line 2\u001B[0m\n\u001B[0;32m      1\u001B[0m \u001B[38;5;28;01mwith\u001B[39;00m app\u001B[38;5;241m.\u001B[39mapp_context():\n\u001B[1;32m----> 2\u001B[0m         dao \u001B[38;5;241m=\u001B[39m \u001B[43mwarehouseDAO\u001B[49m\u001B[43m(\u001B[49m\u001B[43m)\u001B[49m\n\u001B[0;32m      4\u001B[0m         \u001B[38;5;66;03m#request.get()\u001B[39;00m\n\u001B[0;32m      5\u001B[0m         \u001B[38;5;66;03m#ppJson = dao.getBottomParts()\u001B[39;00m\n\u001B[0;32m      6\u001B[0m         api_url \u001B[38;5;241m=\u001B[39m \u001B[38;5;124m'\u001B[39m\u001B[38;5;124mhttp://127.0.0.1:5000/rhasql/warehouse/5/profit\u001B[39m\u001B[38;5;124m'\u001B[39m\n",
      "File \u001B[1;32m~\\PycharmProjects\\inventory-tracking-app-rhasql\\DAO\\warehouseDAO.py:17\u001B[0m, in \u001B[0;36mwarehouseDAO.__init__\u001B[1;34m(self)\u001B[0m\n\u001B[0;32m      7\u001B[0m connection_url \u001B[38;5;241m=\u001B[39m \u001B[38;5;124m\"\u001B[39m\u001B[38;5;124muser=\u001B[39m\u001B[38;5;132;01m%s\u001B[39;00m\u001B[38;5;124m password=\u001B[39m\u001B[38;5;132;01m%s\u001B[39;00m\u001B[38;5;124m host=\u001B[39m\u001B[38;5;132;01m%s\u001B[39;00m\u001B[38;5;124m port=\u001B[39m\u001B[38;5;132;01m%s\u001B[39;00m\u001B[38;5;124m dbname=\u001B[39m\u001B[38;5;132;01m%s\u001B[39;00m\u001B[38;5;124m\"\u001B[39m \u001B[38;5;241m%\u001B[39m (pg_config[\u001B[38;5;124m'\u001B[39m\u001B[38;5;124muser\u001B[39m\u001B[38;5;124m'\u001B[39m],\n\u001B[0;32m      8\u001B[0m                                                                     pg_config[\u001B[38;5;124m'\u001B[39m\u001B[38;5;124mpassword\u001B[39m\u001B[38;5;124m'\u001B[39m],\n\u001B[0;32m      9\u001B[0m                                                                     pg_config[\u001B[38;5;124m'\u001B[39m\u001B[38;5;124mhost\u001B[39m\u001B[38;5;124m'\u001B[39m],\n\u001B[0;32m     10\u001B[0m                                                                     pg_config[\u001B[38;5;124m'\u001B[39m\u001B[38;5;124mport\u001B[39m\u001B[38;5;124m'\u001B[39m],\n\u001B[0;32m     11\u001B[0m                                                                     pg_config[\u001B[38;5;124m'\u001B[39m\u001B[38;5;124mdbname\u001B[39m\u001B[38;5;124m'\u001B[39m])\n\u001B[0;32m     12\u001B[0m \u001B[38;5;66;03m# self.conn = psycopg2.connect(user=\"vbccpykujiisah\",\u001B[39;00m\n\u001B[0;32m     13\u001B[0m \u001B[38;5;66;03m#                            password=\"3e4854dbe0ce20aad8ad4cf6cd8dad1b9e2382d39f59509970541a10f30c8908\",\u001B[39;00m\n\u001B[0;32m     14\u001B[0m \u001B[38;5;66;03m#                           host=\"ec2-18-211-172-50.compute-1.amazonaws.com\",\u001B[39;00m\n\u001B[0;32m     15\u001B[0m \u001B[38;5;66;03m#                          port=\"5432\",\u001B[39;00m\n\u001B[0;32m     16\u001B[0m \u001B[38;5;66;03m#                         database=\"d50qfjb63nlom1\")\u001B[39;00m\n\u001B[1;32m---> 17\u001B[0m \u001B[38;5;28mself\u001B[39m\u001B[38;5;241m.\u001B[39mconn \u001B[38;5;241m=\u001B[39m \u001B[43mpsycopg2\u001B[49m\u001B[38;5;241;43m.\u001B[39;49m\u001B[43mconnect\u001B[49m\u001B[43m(\u001B[49m\u001B[43mconnection_url\u001B[49m\u001B[43m)\u001B[49m\n",
      "File \u001B[1;32m~\\AppData\\Local\\Programs\\Python\\Python38\\lib\\site-packages\\psycopg2\\__init__.py:122\u001B[0m, in \u001B[0;36mconnect\u001B[1;34m(dsn, connection_factory, cursor_factory, **kwargs)\u001B[0m\n\u001B[0;32m    119\u001B[0m     kwasync[\u001B[38;5;124m'\u001B[39m\u001B[38;5;124masync_\u001B[39m\u001B[38;5;124m'\u001B[39m] \u001B[38;5;241m=\u001B[39m kwargs\u001B[38;5;241m.\u001B[39mpop(\u001B[38;5;124m'\u001B[39m\u001B[38;5;124masync_\u001B[39m\u001B[38;5;124m'\u001B[39m)\n\u001B[0;32m    121\u001B[0m dsn \u001B[38;5;241m=\u001B[39m _ext\u001B[38;5;241m.\u001B[39mmake_dsn(dsn, \u001B[38;5;241m*\u001B[39m\u001B[38;5;241m*\u001B[39mkwargs)\n\u001B[1;32m--> 122\u001B[0m conn \u001B[38;5;241m=\u001B[39m \u001B[43m_connect\u001B[49m\u001B[43m(\u001B[49m\u001B[43mdsn\u001B[49m\u001B[43m,\u001B[49m\u001B[43m \u001B[49m\u001B[43mconnection_factory\u001B[49m\u001B[38;5;241;43m=\u001B[39;49m\u001B[43mconnection_factory\u001B[49m\u001B[43m,\u001B[49m\u001B[43m \u001B[49m\u001B[38;5;241;43m*\u001B[39;49m\u001B[38;5;241;43m*\u001B[39;49m\u001B[43mkwasync\u001B[49m\u001B[43m)\u001B[49m\n\u001B[0;32m    123\u001B[0m \u001B[38;5;28;01mif\u001B[39;00m cursor_factory \u001B[38;5;129;01mis\u001B[39;00m \u001B[38;5;129;01mnot\u001B[39;00m \u001B[38;5;28;01mNone\u001B[39;00m:\n\u001B[0;32m    124\u001B[0m     conn\u001B[38;5;241m.\u001B[39mcursor_factory \u001B[38;5;241m=\u001B[39m cursor_factory\n",
      "\u001B[1;31mOperationalError\u001B[0m: connection to server at \"ec2-18-211-172-50.compute-1.amazonaws.com\" (18.211.172.50), port 5432 failed: FATAL:  too many connections for role \"vbccpykujiisah\"\n"
     ]
    }
   ],
   "source": [
    "with app.app_context():\n",
    "        dao = warehouseDAO()\n",
    "        \n",
    "        #request.get()\n",
    "        #ppJson = dao.getBottomParts()\n",
    "        api_url = 'http://127.0.0.1:5000/rhasql/warehouse/5/profit'\n",
    "        #print(request.path)\n",
    "        todo = {\"u_id\":2}\n",
    "        response = requests.post(api_url,json=todo)\n",
    "        \n",
    "        \n",
    "        \n",
    "        #sID = []\n",
    "        #totalSupplies = []\n",
    "        #result = []\n",
    "        #print(ppJson)\n",
    "        #print(response.json()[\"Lowest_ptype\"])\n",
    "            # result.append(WarehouseHandler().buildLowMaterial(x))\n",
    "        # for y in result:\n",
    "        x_axis = ['2022','2023']\n",
    "        y_axis = [0, int(response.json()['profit'][0][0])]\n",
    "        plt.plot(x_axis, y_axis)\n",
    "        plt.title('title name')\n",
    "        plt.xlabel('year')\n",
    "        plt.ylabel('profit')\n",
    "        #     pID.append(y['amount in stock'])\n",
    "        #     pMaterial.append(y['material'])\n",
    "        #plt.bar(range(0, len(totalSupplies)), totalSupplies)\n",
    "        #plt.xticks(range(0, len(sID)), sID)\n",
    "        #plt.legend()\n",
    "        # fig, ax = plt.subplots()\n",
    "        # ax.pie(mTransactions, labels=mID, autopct='%1.1f%%')\n",
    "        plt.show()\n",
    "        \n",
    "        #plt.hist"
   ],
   "metadata": {
    "collapsed": false,
    "ExecuteTime": {
     "end_time": "2023-12-10T21:10:46.889312100Z",
     "start_time": "2023-12-10T21:10:46.281868100Z"
    }
   },
   "id": "ec85464f700fa4bb"
  },
  {
   "cell_type": "code",
   "execution_count": null,
   "outputs": [],
   "source": [],
   "metadata": {
    "collapsed": false
   },
   "id": "ee4bb622855b0c66"
  }
 ],
 "metadata": {
  "kernelspec": {
   "display_name": "Python 3",
   "language": "python",
   "name": "python3"
  },
  "language_info": {
   "codemirror_mode": {
    "name": "ipython",
    "version": 2
   },
   "file_extension": ".py",
   "mimetype": "text/x-python",
   "name": "python",
   "nbconvert_exporter": "python",
   "pygments_lexer": "ipython2",
   "version": "2.7.6"
  }
 },
 "nbformat": 4,
 "nbformat_minor": 5
}
