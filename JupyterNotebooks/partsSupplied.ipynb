{
 "cells": [
  {
   "cell_type": "code",
   "execution_count": null,
   "id": "initial_id",
   "metadata": {
    "collapsed": true
   },
   "outputs": [],
   "source": [
    "\n",
    "import flask\n",
    "%matplotlib widget\n",
    "from flask import Flask, jsonify, request\n",
    "from flask_cors import CORS, cross_origin\n",
    "from matplotlib import pyplot as plt\n",
    "from handler.WarehouseHandler import WarehouseHandler\n",
    "from DAO.racksDAO import RacksDao\n",
    "from DAO.warehouseDAO import warehouseDAO\n",
    "from DAO.partsDAO import PartsDAO\n",
    "from main import app\n",
    "from handler.RacksHandler import RacksHandler\n",
    "import requests\n",
    "from main import app\n",
    "import pandas as pd\n",
    "import ipywidgets\n",
    "from IPython.display import display, clear_output\n",
    "from IPython.utils import capture\n",
    "from IPython.utils.capture import capture_output\n",
    "from debugpy.launcher import output\n",
    "\n",
    "import pandas as pd\n",
    "#import sys\n",
    "#sys.path.append('http://127.0.0.1:5000/')\n",
    "#app.app_context().push()"
   ]
  },
  {
   "cell_type": "code",
   "execution_count": 13,
   "outputs": [
    {
     "data": {
      "text/plain": "Dropdown(description='Supplier id: ', options=(3, 4, 2, 5, 6, 7, 8, 9, 11, 16), value=3)",
      "application/vnd.jupyter.widget-view+json": {
       "version_major": 2,
       "version_minor": 0,
       "model_id": "8474e1585d0541a88174f58d156d6ed0"
      }
     },
     "metadata": {},
     "output_type": "display_data"
    }
   ],
   "source": [
    "with app.app_context():\n",
    "    api_url =' http://127.0.0.1:5000/rhasql/supplier'\n",
    "    request = requests.get(api_url)\n",
    "    respone = request.json()\n",
    "    #response = requests.get(api_url)\n",
    "    sid = []\n",
    "    for x in respone:\n",
    "        sid.append(x['Id'])\n",
    "    dropdown = ipywidgets.Dropdown(\n",
    "        options=sid,\n",
    "        value=sid[0],\n",
    "        description='Supplier id: ',\n",
    "        disabled=False\n",
    "    )\n",
    "    output = ipywidgets.Output()\n",
    "    display(dropdown)\n",
    "    plt.show()"
   ],
   "metadata": {
    "collapsed": false,
    "ExecuteTime": {
     "end_time": "2023-12-11T04:22:55.851730Z",
     "start_time": "2023-12-11T04:22:55.188688Z"
    }
   },
   "id": "45254b948e5198c1"
  },
  {
   "cell_type": "code",
   "execution_count": null,
   "outputs": [],
   "source": [],
   "metadata": {
    "collapsed": false
   },
   "id": "a2858c1215ee1cf4"
  },
  {
   "cell_type": "code",
   "execution_count": null,
   "outputs": [],
   "source": [
    "@output.capture(clear_output=True, wait=True)\n",
    "def when_changed(change):\n",
    "    if change['name'] == 'value' and (change['new'] != change['old']):\n",
    "        clear_output()\n",
    "        api_url =f'http://127.0.0.1:5000/rhasql/supplier/{dropdown.value}/suppliedParts'\n",
    "        response = requests.get(api_url)\n",
    "        pName = []\n",
    "        pAmount = []\n",
    "        result = []\n",
    "    \n",
    "        for x in response.json():\n",
    "            pName.append(x['p_name'])\n",
    "            pAmount.append(x['stock'])\n",
    "        plt.figure().set_figwidth(15)\n",
    "        plt.pie(pAmount,labels=pName, autopct='%1.1f%%' )\n",
    "        plt.show()\n",
    "dropdown.observe(when_changed, 'value')\n",
    "output"
   ],
   "metadata": {
    "collapsed": false
   },
   "id": "fabfbbf02daa53cb"
  },
  {
   "cell_type": "code",
   "execution_count": null,
   "outputs": [],
   "source": [],
   "metadata": {
    "collapsed": false
   },
   "id": "86e6e89a3f18fc5e"
  }
 ],
 "metadata": {
  "kernelspec": {
   "display_name": "Python 3",
   "language": "python",
   "name": "python3"
  },
  "language_info": {
   "codemirror_mode": {
    "name": "ipython",
    "version": 2
   },
   "file_extension": ".py",
   "mimetype": "text/x-python",
   "name": "python",
   "nbconvert_exporter": "python",
   "pygments_lexer": "ipython2",
   "version": "2.7.6"
  }
 },
 "nbformat": 4,
 "nbformat_minor": 5
}
