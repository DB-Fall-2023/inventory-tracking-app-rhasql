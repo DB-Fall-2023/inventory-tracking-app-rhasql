{
 "cells": [
  {
   "cell_type": "code",
   "execution_count": 1,
   "id": "initial_id",
   "metadata": {
    "collapsed": true,
    "ExecuteTime": {
     "end_time": "2023-12-07T19:19:56.994924500Z",
     "start_time": "2023-12-07T19:19:55.632923500Z"
    }
   },
   "outputs": [],
   "source": [
    "import flask\n",
    "%matplotlib widget\n",
    "from flask import Flask, jsonify, request\n",
    "from flask_cors import CORS, cross_origin\n",
    "from matplotlib import pyplot as plt\n",
    "from handler.WarehouseHandler import WarehouseHandler\n",
    "from DAO.racksDAO import RacksDao\n",
    "from DAO.warehouseDAO import warehouseDAO\n",
    "from main import app\n",
    "from handler.RacksHandler import RacksHandler\n",
    "import requests\n",
    "from main import app\n",
    "import pandas as pd\n",
    "import ipywidgets\n",
    "from IPython.display import display\n",
    "#import sys\n",
    "#sys.path.append('http://127.0.0.1:5000/')\n",
    "#app.app_context().push()\n"
   ]
  },
  {
   "cell_type": "code",
   "execution_count": 2,
   "outputs": [
    {
     "name": "stdout",
     "output_type": "stream",
     "text": [
      "Welcome to the main page!\n",
      "what would you like to see?\n"
     ]
    },
    {
     "data": {
      "text/plain": "Dropdown(description='Global statistic', options=('Top 10 warehouse racks', 'Top 5 warehouses with most incomi…",
      "application/vnd.jupyter.widget-view+json": {
       "version_major": 2,
       "version_minor": 0,
       "model_id": "84ccee92611041ff83797043a774c378"
      }
     },
     "metadata": {},
     "output_type": "display_data"
    }
   ],
   "source": [
    "with ((app.app_context())):\n",
    "    print(\"Welcome to the main page!\")\n",
    "    print(\"what would you like to see?\")\n",
    "    globalstats = ipywidgets.Dropdown(\n",
    "        options=['Top 10 warehouse racks', 'Top 5 warehouses with most incoming transactions', 'Top 5 warehouses that delivers the most exchanges', 'Top 3 users that made the most transactions', 'Top 3 warehouses with the least outgoing transactions', 'Top 3 warehouses’ cities with the most transactions '],\n",
    "         description='Global statistic',\n",
    "        disabled=False)\n",
    "    display(globalstats)"
   ],
   "metadata": {
    "collapsed": false,
    "ExecuteTime": {
     "end_time": "2023-12-07T19:28:50.730015800Z",
     "start_time": "2023-12-07T19:28:50.699015300Z"
    }
   },
   "id": "3c4538b97554eeb2"
  },
  {
   "cell_type": "code",
   "execution_count": null,
   "outputs": [],
   "source": [],
   "metadata": {
    "collapsed": false
   },
   "id": "863376b86bcf9331"
  }
 ],
 "metadata": {
  "kernelspec": {
   "display_name": "Python 3",
   "language": "python",
   "name": "python3"
  },
  "language_info": {
   "codemirror_mode": {
    "name": "ipython",
    "version": 2
   },
   "file_extension": ".py",
   "mimetype": "text/x-python",
   "name": "python",
   "nbconvert_exporter": "python",
   "pygments_lexer": "ipython2",
   "version": "2.7.6"
  }
 },
 "nbformat": 4,
 "nbformat_minor": 5
}
